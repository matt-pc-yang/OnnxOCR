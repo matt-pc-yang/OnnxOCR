{
 "cells": [
  {
   "cell_type": "markdown",
   "metadata": {},
   "source": [
    "# Study the input image"
   ]
  },
  {
   "cell_type": "code",
   "execution_count": 1,
   "metadata": {},
   "outputs": [
    {
     "name": "stdout",
     "output_type": "stream",
     "text": [
      "(1150, 720, 3)\n"
     ]
    }
   ],
   "source": [
    "# Inspect the image format - HWC or CHW?\n",
    "import cv2\n",
    "\n",
    "img = cv2.imread('./onnxocr/test_images/1.jpg')\n",
    "\n",
    "# Expecting HWC\n",
    "print(img.shape)"
   ]
  },
  {
   "cell_type": "markdown",
   "metadata": {},
   "source": [
    "# Study detection preprocessing\n",
    "## First of all, lets mask out the following codes:\n",
    "### class TextDetector(PredictBase):\n",
    "### &nbsp;&nbsp;#self.det_onnx_session = self.get_onnx_session(args.det_model_dir, args.use_gpu)\n",
    "### &nbsp;&nbsp;...\n",
    "\n",
    "## Check especially the output of the last preprocessing stage: KeepKeys"
   ]
  },
  {
   "cell_type": "code",
   "execution_count": 5,
   "metadata": {},
   "outputs": [
    {
     "name": "stdout",
     "output_type": "stream",
     "text": [
      "True\n",
      "<class 'bool'>\n"
     ]
    }
   ],
   "source": [
    "from onnxocr.onnx_paddleocr import ONNXPaddleOcr\n",
    "\n",
    "model = ONNXPaddleOcr(use_angle_cls=True, use_gpu=False, skip_rec=True, skip_det_postproc=True)\n",
    "\n",
    "# Double check if recognizer is skipped correctly\n",
    "print(model.args.skip_rec)\n",
    "assert not hasattr(model, \"text_recognizer\")"
   ]
  },
  {
   "cell_type": "code",
   "execution_count": 8,
   "metadata": {},
   "outputs": [
    {
     "name": "stdout",
     "output_type": "stream",
     "text": [
      "<onnxocr.predict_rec.TextRecognizer object at 0x7f4525175a20>\n"
     ]
    }
   ],
   "source": []
  },
  {
   "cell_type": "code",
   "execution_count": null,
   "metadata": {},
   "outputs": [],
   "source": [
    "import time\n",
    "\n",
    "s = time.time()\n",
    "result = model.ocr(img, rec=False, cls=False)\n",
    "e = time.time()\n"
   ]
  },
  {
   "cell_type": "markdown",
   "metadata": {},
   "source": []
  }
 ],
 "metadata": {
  "kernelspec": {
   "display_name": ".venv",
   "language": "python",
   "name": "python3"
  },
  "language_info": {
   "codemirror_mode": {
    "name": "ipython",
    "version": 3
   },
   "file_extension": ".py",
   "mimetype": "text/x-python",
   "name": "python",
   "nbconvert_exporter": "python",
   "pygments_lexer": "ipython3",
   "version": "3.10.14"
  }
 },
 "nbformat": 4,
 "nbformat_minor": 2
}
