{
 "cells": [
  {
   "cell_type": "markdown",
   "metadata": {},
   "source": [
    "# Study the input image"
   ]
  },
  {
   "cell_type": "code",
   "execution_count": 1,
   "metadata": {},
   "outputs": [
    {
     "name": "stdout",
     "output_type": "stream",
     "text": [
      "(1150, 720, 3)\n"
     ]
    }
   ],
   "source": [
    "# Inspect the image format - HWC or CHW?\n",
    "import cv2\n",
    "\n",
    "img = cv2.imread('./onnxocr/test_images/1.jpg')\n",
    "\n",
    "# Expecting HWC\n",
    "print(img.shape)"
   ]
  },
  {
   "cell_type": "markdown",
   "metadata": {},
   "source": [
    "# Study detection preprocessing\n",
    "## First of all, lets mask out the following codes:\n",
    "### class TextDetector(PredictBase):\n",
    "### &nbsp;&nbsp;#self.det_onnx_session = self.get_onnx_session(args.det_model_dir, args.use_gpu)\n",
    "### &nbsp;&nbsp;...\n",
    "\n",
    "## Check especially the output of the last preprocessing stage: KeepKeys"
   ]
  },
  {
   "cell_type": "code",
   "execution_count": 2,
   "metadata": {},
   "outputs": [
    {
     "name": "stdout",
     "output_type": "stream",
     "text": [
      "True\n"
     ]
    }
   ],
   "source": [
    "from onnxocr.onnx_paddleocr import ONNXPaddleOcr\n",
    "\n",
    "model = ONNXPaddleOcr(use_angle_cls=False, use_gpu=False, skip_rec=True, matt_debug=True)\n",
    "\n",
    "# Double check if recognizer is skipped correctly\n",
    "print(model.args.skip_rec)\n",
    "assert not hasattr(model, \"text_recognizer\")"
   ]
  },
  {
   "cell_type": "code",
   "execution_count": 4,
   "metadata": {},
   "outputs": [
    {
     "ename": "AttributeError",
     "evalue": "'TextDetector' object has no attribute 'det_input_name'",
     "output_type": "error",
     "traceback": [
      "\u001b[0;31m---------------------------------------------------------------------------\u001b[0m",
      "\u001b[0;31mAttributeError\u001b[0m                            Traceback (most recent call last)",
      "Cell \u001b[0;32mIn[4], line 4\u001b[0m\n\u001b[1;32m      1\u001b[0m \u001b[38;5;28;01mimport\u001b[39;00m \u001b[38;5;21;01mtime\u001b[39;00m\n\u001b[1;32m      3\u001b[0m s \u001b[38;5;241m=\u001b[39m time\u001b[38;5;241m.\u001b[39mtime()\n\u001b[0;32m----> 4\u001b[0m result \u001b[38;5;241m=\u001b[39m \u001b[43mmodel\u001b[49m\u001b[38;5;241;43m.\u001b[39;49m\u001b[43mocr\u001b[49m\u001b[43m(\u001b[49m\u001b[43mimg\u001b[49m\u001b[43m,\u001b[49m\u001b[43m \u001b[49m\u001b[43mrec\u001b[49m\u001b[38;5;241;43m=\u001b[39;49m\u001b[38;5;28;43;01mFalse\u001b[39;49;00m\u001b[43m,\u001b[49m\u001b[43m \u001b[49m\u001b[38;5;28;43mcls\u001b[39;49m\u001b[38;5;241;43m=\u001b[39;49m\u001b[38;5;28;43;01mFalse\u001b[39;49;00m\u001b[43m)\u001b[49m\n\u001b[1;32m      5\u001b[0m e \u001b[38;5;241m=\u001b[39m time\u001b[38;5;241m.\u001b[39mtime()\n\u001b[1;32m      7\u001b[0m \u001b[38;5;28mprint\u001b[39m(\u001b[38;5;124m\"\u001b[39m\u001b[38;5;124mImage shape after preprocessing transform = \u001b[39m\u001b[38;5;124m\"\u001b[39m, model\u001b[38;5;241m.\u001b[39mtext_detector\u001b[38;5;241m.\u001b[39margs\u001b[38;5;241m.\u001b[39mmydbg\u001b[38;5;241m.\u001b[39mimg1_shape, sep\u001b[38;5;241m=\u001b[39m\u001b[38;5;124m\"\u001b[39m\u001b[38;5;124m\"\u001b[39m)\n",
      "File \u001b[0;32m~/OnnxOCR/onnxocr/onnx_paddleocr.py:41\u001b[0m, in \u001b[0;36mONNXPaddleOcr.ocr\u001b[0;34m(self, img, det, rec, cls)\u001b[0m\n\u001b[1;32m     39\u001b[0m \u001b[38;5;28;01melif\u001b[39;00m det \u001b[38;5;129;01mand\u001b[39;00m \u001b[38;5;129;01mnot\u001b[39;00m rec:\n\u001b[1;32m     40\u001b[0m     ocr_res \u001b[38;5;241m=\u001b[39m []\n\u001b[0;32m---> 41\u001b[0m     dt_boxes \u001b[38;5;241m=\u001b[39m \u001b[38;5;28;43mself\u001b[39;49m\u001b[38;5;241;43m.\u001b[39;49m\u001b[43mtext_detector\u001b[49m\u001b[43m(\u001b[49m\u001b[43mimg\u001b[49m\u001b[43m)\u001b[49m\n\u001b[1;32m     42\u001b[0m     tmp_res \u001b[38;5;241m=\u001b[39m [box\u001b[38;5;241m.\u001b[39mtolist() \u001b[38;5;28;01mfor\u001b[39;00m box \u001b[38;5;129;01min\u001b[39;00m dt_boxes]\n\u001b[1;32m     43\u001b[0m     ocr_res\u001b[38;5;241m.\u001b[39mappend(tmp_res)\n",
      "File \u001b[0;32m~/OnnxOCR/onnxocr/predict_det.py:114\u001b[0m, in \u001b[0;36mTextDetector.__call__\u001b[0;34m(self, img)\u001b[0m\n\u001b[1;32m    110\u001b[0m shape_list \u001b[38;5;241m=\u001b[39m np\u001b[38;5;241m.\u001b[39mexpand_dims(shape_list, axis\u001b[38;5;241m=\u001b[39m\u001b[38;5;241m0\u001b[39m)\n\u001b[1;32m    111\u001b[0m img \u001b[38;5;241m=\u001b[39m img\u001b[38;5;241m.\u001b[39mcopy()\n\u001b[0;32m--> 114\u001b[0m input_feed \u001b[38;5;241m=\u001b[39m \u001b[38;5;28mself\u001b[39m\u001b[38;5;241m.\u001b[39mget_input_feed(\u001b[38;5;28;43mself\u001b[39;49m\u001b[38;5;241;43m.\u001b[39;49m\u001b[43mdet_input_name\u001b[49m, img)\n\u001b[1;32m    115\u001b[0m outputs \u001b[38;5;241m=\u001b[39m \u001b[38;5;28mself\u001b[39m\u001b[38;5;241m.\u001b[39mdet_onnx_session\u001b[38;5;241m.\u001b[39mrun(\u001b[38;5;28mself\u001b[39m\u001b[38;5;241m.\u001b[39mdet_output_name, input_feed\u001b[38;5;241m=\u001b[39minput_feed)\n\u001b[1;32m    117\u001b[0m preds \u001b[38;5;241m=\u001b[39m {}\n",
      "\u001b[0;31mAttributeError\u001b[0m: 'TextDetector' object has no attribute 'det_input_name'"
     ]
    }
   ],
   "source": [
    "import time\n",
    "\n",
    "s = time.time()\n",
    "result = model.ocr(img, rec=False, cls=False)\n",
    "e = time.time()\n",
    "\n",
    "print(\"Image shape after preprocessing transform = \", model.text_detector.args.mydbg.img1_shape, sep=\"\")\n",
    "print(\"Shape list shape after preprocessing transform = \", model.text_detector.args.mydbg.shape_list1_shape, sep=\"\")"
   ]
  },
  {
   "cell_type": "markdown",
   "metadata": {},
   "source": []
  }
 ],
 "metadata": {
  "kernelspec": {
   "display_name": ".venv",
   "language": "python",
   "name": "python3"
  },
  "language_info": {
   "codemirror_mode": {
    "name": "ipython",
    "version": 3
   },
   "file_extension": ".py",
   "mimetype": "text/x-python",
   "name": "python",
   "nbconvert_exporter": "python",
   "pygments_lexer": "ipython3",
   "version": "3.8.20"
  }
 },
 "nbformat": 4,
 "nbformat_minor": 2
}
